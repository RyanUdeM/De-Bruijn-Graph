{
 "cells": [
  {
   "cell_type": "markdown",
   "metadata": {
    "colab_type": "text",
    "id": "bqaqLTeXGcSy"
   },
   "source": [
    "# main.ipynb\n",
    "for TP2 IFT2015 2018\n",
    "\n",
    "## Team members:\n",
    "Qiang Ye(20139927) Xiao Ju(1037977)\n",
    "<hr>\n",
    "\n",
    "## Question 1 \n",
    "### a) Implémenter la structure de données du graphe de Brujin à l’aide d’une table de hachage qui devra également être implantée. Le constructeur prendra en entrée un itérable sur des chaînes de caractères de longueur k.\n",
    "Puisque l’itérable est de longueur arbitraire, vous devez redimensionner dynamiquement la table de hachage pour maintenir le facteur de charge sous 0.75.\n",
    "\n",
    "**Answer a)**\n",
    "\n",
    "Please read `graph.py` for details.\n"
   ]
  },
  {
   "cell_type": "markdown",
   "metadata": {
    "colab_type": "text",
    "id": "wgs3M9a-G0OE"
   },
   "source": [
    "### b) Discuter des détails de votre implémentation en répondant aux questions suivantes\n",
    "- Quelle fonction de hachage avez-vous utilisé? et dans quelle mesure est-elle spécifique au\n",
    "problème?\n",
    "- Quelle stratégie d’adressage avez-vous utilisé?\n",
    "\n",
    "**Answer b)**\n",
    "\n",
    "Please read `report` for details."
   ]
  },
  {
   "cell_type": "markdown",
   "metadata": {
    "colab_type": "text",
    "id": "agivAdHaHkVv"
   },
   "source": [
    "### c) Quel serait le principal gain d’utiliser une technique de hachage sensitif à la localité et de l’adressage linéaire pour ce problème?\n",
    "\n",
    "**Answer c)**\n",
    "\n",
    "Please read `report` for details.\n",
    "<hr>"
   ]
  },
  {
   "cell_type": "markdown",
   "metadata": {
    "colab_type": "text",
    "id": "XZTEXfaDke0N"
   },
   "source": [
    "**Note: The following(next) cell is for running this pynb file on Google Colab platform. it doesn't need to be executed if this .ipynb is run on local computer.**"
   ]
  },
  {
   "cell_type": "code",
   "execution_count": 1,
   "metadata": {
    "colab": {
     "base_uri": "https://localhost:8080/",
     "height": 163
    },
    "colab_type": "code",
    "executionInfo": {
     "elapsed": 28451,
     "status": "ok",
     "timestamp": 1545588162217,
     "user": {
      "displayName": "Qiang YE",
      "photoUrl": "https://lh6.googleusercontent.com/-k-9mYNphfpc/AAAAAAAAAAI/AAAAAAAAARQ/zyID3sFntfM/s64/photo.jpg",
      "userId": "15200210150486633975"
     },
     "user_tz": 300
    },
    "id": "oY9T2jrUUGTH",
    "outputId": "45d7cef4-2240-41f9-e863-20a90dfb4975"
   },
   "outputs": [
    {
     "name": "stdout",
     "output_type": "stream",
     "text": [
      "Go to this URL in a browser: https://accounts.google.com/o/oauth2/auth?client_id=947318989803-6bn6qk8qdgf4n4g3pfee6491hc0brc4i.apps.googleusercontent.com&redirect_uri=urn%3Aietf%3Awg%3Aoauth%3A2.0%3Aoob&scope=email%20https%3A%2F%2Fwww.googleapis.com%2Fauth%2Fdocs.test%20https%3A%2F%2Fwww.googleapis.com%2Fauth%2Fdrive%20https%3A%2F%2Fwww.googleapis.com%2Fauth%2Fdrive.photos.readonly%20https%3A%2F%2Fwww.googleapis.com%2Fauth%2Fpeopleapi.readonly&response_type=code\n",
      "\n",
      "Enter your authorization code:\n",
      "··········\n",
      "Mounted at /content/drive/\n",
      "GCF_000002985.6_WBcel235_rna.fna.gz  main.ipynb  __pycache__\n",
      "graph.py\t\t\t     out_dated\t reads.fastq.gz\n"
     ]
    }
   ],
   "source": [
    "from google.colab import drive\n",
    "drive.mount('/content/drive/')\n",
    "import os\n",
    "os.chdir(\"drive/My Drive/Colab Notebooks/IFT2015/\")\n",
    "#check if you are in the right directory\n",
    "!ls"
   ]
  },
  {
   "cell_type": "markdown",
   "metadata": {
    "colab_type": "text",
    "id": "XlUPOnalke0I"
   },
   "source": [
    "<hr>\n",
    "## Question 2"
   ]
  },
  {
   "cell_type": "markdown",
   "metadata": {
    "colab_type": "text",
    "id": "r_Y84_dQnCu7"
   },
   "source": [
    "### a) Encoder tous les k-mers des fragments fournis dans le fichier FASTQ dans une instance du graphe De Brujin. Chaque fragment possède l − k + 1 k-mers.\n",
    "\n",
    "**Answer a)**\n",
    "\n",
    "**Step1**: Import `DeBrujinGraph` implemented in question1 and other necessary modules."
   ]
  },
  {
   "cell_type": "code",
   "execution_count": 2,
   "metadata": {
    "colab": {},
    "colab_type": "code",
    "id": "BTs9HFZjUKoH"
   },
   "outputs": [],
   "source": [
    "import gzip\n",
    "from itertools import islice\n",
    "from graph import DeBrujinGraph\n",
    "import time\n",
    "import sys\n",
    "import random\n",
    "import string\n",
    "\n",
    "def show_live_info(info, desc_before = \"\", desc_after = \"\"):\n",
    "    info_line = '\\r' + desc_before +\" \" + str(info) + \" \" + desc_after + \"\\t\"\n",
    "    sys.stdout.flush()\n",
    "    sys.stdout.write(info_line)"
   ]
  },
  {
   "cell_type": "markdown",
   "metadata": {
    "colab_type": "text",
    "id": "trFjIG0xnCvA"
   },
   "source": [
    "**Step2**: Use the method `read_fastq` provided to load sequences from file: 'reads.fastq.gz' and generate possible k-mers with k = 21."
   ]
  },
  {
   "cell_type": "code",
   "execution_count": 8,
   "metadata": {
    "colab": {},
    "colab_type": "code",
    "id": "dGoQZDBxU4y9"
   },
   "outputs": [],
   "source": [
    "def read_fastq(path):\n",
    "    with gzip.open(path, 'rt') as f:\n",
    "        for line in f:\n",
    "            seqid, description = line[1:].rstrip().split(maxsplit = 1)\n",
    "            sequence = f.readline().rstrip()\n",
    "            _ = f.readline()\n",
    "            quality = f.readline().rstrip()\n",
    "            yield seqid, description, sequence, quality"
   ]
  },
  {
   "cell_type": "code",
   "execution_count": 9,
   "metadata": {
    "colab": {},
    "colab_type": "code",
    "id": "56NajVr8VNI3"
   },
   "outputs": [],
   "source": [
    "k = 21\n",
    "kmers = []"
   ]
  },
  {
   "cell_type": "code",
   "execution_count": 10,
   "metadata": {
    "colab": {
     "base_uri": "https://localhost:8080/",
     "height": 71
    },
    "colab_type": "code",
    "executionInfo": {
     "elapsed": 32517,
     "status": "ok",
     "timestamp": 1545588166320,
     "user": {
      "displayName": "Qiang YE",
      "photoUrl": "https://lh6.googleusercontent.com/-k-9mYNphfpc/AAAAAAAAAAI/AAAAAAAAARQ/zyID3sFntfM/s64/photo.jpg",
      "userId": "15200210150486633975"
     },
     "user_tz": 300
    },
    "id": "QyEr1mjtVQAu",
    "outputId": "d52c5499-4407-4ef5-c966-91c1f232993c"
   },
   "outputs": [
    {
     "name": "stdout",
     "output_type": "stream",
     "text": [
      "8627600 k-mers\n",
      "CPU times: user 1.71 s, sys: 136 ms, total: 1.84 s\n",
      "Wall time: 1.84 s\n"
     ]
    }
   ],
   "source": [
    "%%time\n",
    "for _, _, seq, _ in read_fastq('reads.fastq.gz'):\n",
    "    kmers.extend([seq[i:i+k] for i in range(len(seq) - k + 1)])\n",
    "\n",
    "print(len(kmers), \"k-mers\")"
   ]
  },
  {
   "cell_type": "markdown",
   "metadata": {
    "colab_type": "text",
    "id": "VDsfYWiynCvJ"
   },
   "source": [
    "**Step3**: Build an instance of `DeBrujinGraph` based on all k-mers."
   ]
  },
  {
   "cell_type": "code",
   "execution_count": 6,
   "metadata": {
    "colab": {
     "base_uri": "https://localhost:8080/",
     "height": 107
    },
    "colab_type": "code",
    "executionInfo": {
     "elapsed": 1140722,
     "status": "ok",
     "timestamp": 1545589274545,
     "user": {
      "displayName": "Qiang YE",
      "photoUrl": "https://lh6.googleusercontent.com/-k-9mYNphfpc/AAAAAAAAAAI/AAAAAAAAARQ/zyID3sFntfM/s64/photo.jpg",
      "userId": "15200210150486633975"
     },
     "user_tz": 300
    },
    "id": "KrViQrjJVWue",
    "outputId": "d3d7e6ac-ca34-419b-a01a-fc45ac0d2cb2",
    "scrolled": false
   },
   "outputs": [
    {
     "name": "stdout",
     "output_type": "stream",
     "text": [
      "8627600\n",
      "building nodes...\n",
      "building edges...\n",
      "CPU times: user 18min 19s, sys: 8.33 s, total: 18min 28s\n",
      "Wall time: 18min 28s\n"
     ]
    }
   ],
   "source": [
    "%%time\n",
    "length = len(kmers) \n",
    "#length = min(100000, len(kmers))\n",
    "print(length)\n",
    "# we can also remove the repeated kmers before passing them to graph\n",
    "# kmers = list(set(kmers))\n",
    "\n",
    "graph = DeBrujinGraph(nodes = kmers[:length], k = 21)"
   ]
  },
  {
   "cell_type": "markdown",
   "metadata": {
    "colab_type": "text",
    "id": "Y8S5gg1nnCvL"
   },
   "source": [
    "**Step4**: View the node and edge counts of the graph generated."
   ]
  },
  {
   "cell_type": "code",
   "execution_count": 7,
   "metadata": {
    "colab": {
     "base_uri": "https://localhost:8080/",
     "height": 53
    },
    "colab_type": "code",
    "executionInfo": {
     "elapsed": 1140709,
     "status": "ok",
     "timestamp": 1545589274547,
     "user": {
      "displayName": "Qiang YE",
      "photoUrl": "https://lh6.googleusercontent.com/-k-9mYNphfpc/AAAAAAAAAAI/AAAAAAAAARQ/zyID3sFntfM/s64/photo.jpg",
      "userId": "15200210150486633975"
     },
     "user_tz": 300
    },
    "id": "Bqi3NTqDgDn4",
    "outputId": "fe283dab-d175-40df-ef1f-9a3ec5dd4be0"
   },
   "outputs": [
    {
     "name": "stdout",
     "output_type": "stream",
     "text": [
      "node counts: 5126513\n",
      "edge counts: 5091467\n"
     ]
    }
   ],
   "source": [
    "print(\"node counts:\", graph.node_count())\n",
    "print(\"edge counts:\", graph.edge_count())"
   ]
  },
  {
   "cell_type": "markdown",
   "metadata": {
    "colab_type": "text",
    "id": "siYnyDYBnCvO"
   },
   "source": [
    "### b) Bonus: Implanter une table de hachage plus rapide que celle de CPython (i.e. celle utilisée par set et dict) pour stocker des k-mers pour les opérations effectuées en 2a.\n",
    "\n",
    "**Answer b)**\n",
    "\n",
    "Please read `report` for details.\n",
    "<hr>"
   ]
  },
  {
   "cell_type": "markdown",
   "metadata": {
    "colab_type": "text",
    "id": "58eG_UjrY2Au"
   },
   "source": [
    "## Question 3 \n",
    "\n",
    "### a)  Parcourir le graphe pour obtenir des segments contigüs que vous devrez stocker dans un fichier FASTA nommé contigs.fa avec un identifiant unique pour chacun. \n",
    "Commencer par identifier les noeuds qui n’ont pas de prédécesseurs pour débuter l’exploration.\n",
    "\n",
    "Alternativement, vous pouvez explorer le graphe dans les deux directions en partant d’un point aléatoire sur chaque composante connexe.\n",
    "\n",
    "**Answer a)**\n",
    "\n",
    "**Step1**: Implement deep first search and breadth first search methods `DFS`, `DFS_complete`, `BFS`; these methods will be used to explore the connected components of the graph."
   ]
  },
  {
   "cell_type": "code",
   "execution_count": 11,
   "metadata": {
    "colab": {},
    "colab_type": "code",
    "id": "jcsEEe8yY0_n"
   },
   "outputs": [],
   "source": [
    "def DFS(g, u, discovered, dest_nodes):\n",
    "    \"\"\"deep first search of a graph.\n",
    "    params\n",
    "        g: a graph\n",
    "        u: a node of graph g\n",
    "        discovered: a dictionary marking where a edge is visited\n",
    "        dest_nodes: a set of nodes who hae no successors in connected tree.\n",
    "    return\n",
    "        None, discovered and dest_nodes will be modified\n",
    "    \"\"\"\n",
    "    for v in g.successors( u ):\n",
    "        if v not in discovered:\n",
    "            discovered[v] = u # u represents parent node of v\n",
    "                              # v carries the edge information v[-1]\n",
    "            dest_nodes.add(v)\n",
    "            dest_nodes.discard(u)\n",
    "            DFS( g, v, discovered, dest_nodes )\n",
    "            \n",
    "            \n",
    "def BFS(g, s, discovered, dest_nodes):\n",
    "    \"\"\"deep first search of a graph.\n",
    "    params\n",
    "        g: a graph\n",
    "        u: a node of graph g\n",
    "        discovered: a dictionary marking where a edge is visited\n",
    "        dest_nodes: a set of nodes who hae no successors in connected tree.\n",
    "    return\n",
    "        None, discovered and dest_nodes will be modified\n",
    "    \"\"\"\n",
    "    level = [s]\n",
    "    while len(level) > 0:\n",
    "        next_level = []\n",
    "        for u in level:\n",
    "            for v in g.successors(u):\n",
    "                if v not in discovered:\n",
    "                    discovered[v] = u\n",
    "                    dest_nodes.add(v)\n",
    "                    dest_nodes.discard(u)\n",
    "                    next_level.append(v)\n",
    "        level = next_level  "
   ]
  },
  {
   "cell_type": "markdown",
   "metadata": {
    "colab_type": "text",
    "id": "6GdqpFocnCvT"
   },
   "source": [
    "**Step2**: Implement method `find_end_nodes` to find nodes without predecessors or without successors."
   ]
  },
  {
   "cell_type": "code",
   "execution_count": 12,
   "metadata": {
    "colab": {},
    "colab_type": "code",
    "id": "M5TZWArTZ_qq"
   },
   "outputs": [],
   "source": [
    "def find_end_nodes(g: DeBrujinGraph, is_start: bool = True):\n",
    "    \"\"\"find all nodes without predecessors or without successors controled by\n",
    "    a bool parameter\n",
    "    params\n",
    "        g: graph\n",
    "        is_start: bool, if True, find all nodes without predecessors; if False\n",
    "            find all nodes without successors\n",
    "    returns\n",
    "        results, list of nodes\n",
    "    \"\"\"\n",
    "    results = []\n",
    "    func = g.predecessors\n",
    "    if is_start == False:\n",
    "        func = g.successors\n",
    "    for node in g.nodes():\n",
    "        if len(func(node)) == 0: # no predecessors\n",
    "            results.append(node)\n",
    "            show_live_info(len(results), \"searching... \", \"nodes found.\")\n",
    "    print()\n",
    "    return results           "
   ]
  },
  {
   "cell_type": "code",
   "execution_count": 10,
   "metadata": {
    "colab": {
     "base_uri": "https://localhost:8080/",
     "height": 71
    },
    "colab_type": "code",
    "executionInfo": {
     "elapsed": 1420376,
     "status": "ok",
     "timestamp": 1545589554217,
     "user": {
      "displayName": "Qiang YE",
      "photoUrl": "https://lh6.googleusercontent.com/-k-9mYNphfpc/AAAAAAAAAAI/AAAAAAAAARQ/zyID3sFntfM/s64/photo.jpg",
      "userId": "15200210150486633975"
     },
     "user_tz": 300
    },
    "id": "x68hlDCs7opz",
    "outputId": "f2d41c60-87c6-4068-98b6-6fc0c71d68bc"
   },
   "outputs": [
    {
     "name": "stdout",
     "output_type": "stream",
     "text": [
      "searching...  37319 nodes found.\t\n",
      "CPU times: user 3min 58s, sys: 14.1 s, total: 4min 12s\n",
      "Wall time: 4min 39s\n"
     ]
    }
   ],
   "source": [
    "%%time\n",
    "start_nodes = find_end_nodes(graph, is_start = True)"
   ]
  },
  {
   "cell_type": "markdown",
   "metadata": {
    "colab_type": "text",
    "id": "_miCpf_RnCvW"
   },
   "source": [
    "**Step3**: We can find all possible paths by starting from a node without predecessors and ended at a leaf node of a connected tree formed by a search method. Based on the paths found, a continuous sequence can be assembled."
   ]
  },
  {
   "cell_type": "code",
   "execution_count": 13,
   "metadata": {
    "colab": {},
    "colab_type": "code",
    "id": "0dtrOWhmnCvX"
   },
   "outputs": [],
   "source": [
    "def generate_sequence(g, u, v, discovered):\n",
    "    \"\"\"generate a contiguous sequence from node u to v based on the \n",
    "    discovered paths in graph\n",
    "    params\n",
    "        g: graph\n",
    "        u: start(origin) node of a sequence, str\n",
    "        v: end(destination) node of a sequence, str\n",
    "        discovered: dictionary from a deep/breadth first search of a graph g\n",
    "    returns\n",
    "        segment: str, a string format of list of nodes. \n",
    "            example: \"ACTGTCTATAT\"\n",
    "    \"\"\"\n",
    "    segment = []\n",
    "    if u is None: # there is no start nodes\n",
    "        return None   \n",
    "    \n",
    "    if v in discovered:\n",
    "        walk = v\n",
    "        while walk is not u:\n",
    "            segment.append(walk[-1])\n",
    "            walk = discovered[walk]\n",
    "        # walk is now u\n",
    "        \n",
    "    segment.reverse()\n",
    "    segment = u + \"\".join(segment)\n",
    "    return segment\n",
    "\n",
    "\n",
    "def generate_sequences(g, start_nodes):\n",
    "    \"\"\"generate all possible contiguous sequence from a directed graph with\n",
    "    start nodes are given\n",
    "    params\n",
    "        g: graph\n",
    "        start_nodes: list of start nodes, str\n",
    "    returns\n",
    "        segments: all possible contigous sequences, [str]\n",
    "    \"\"\"\n",
    "    segments = []\n",
    "    n_total_nodes = len(start_nodes)\n",
    "    for i, start_node in enumerate(start_nodes):\n",
    "        discovered = {start_node: '-'}\n",
    "        dest_nodes = set()\n",
    "        dest_nodes.add(start_node)\n",
    "        # use DFS or BFS to construct a connected tree, and all leave nodes\n",
    "        # circle path will be cut here.\n",
    "        DFS(graph, start_node, discovered, dest_nodes)\n",
    "        # BFS(graph, start_node, discovered, dest_nodes)\n",
    "        for dest_node in dest_nodes:\n",
    "            #print(start_node,\" -> \", dest_node)\n",
    "            segment = generate_sequence(graph, start_node, dest_node, discovered)\n",
    "            if segment is not None:\n",
    "                segments.append(segment)\n",
    "        \n",
    "        show_live_info(len(segments), \"generating sequence...\", \"generated.\")\n",
    "    print()\n",
    "    return segments"
   ]
  },
  {
   "cell_type": "markdown",
   "metadata": {
    "colab_type": "text",
    "id": "Ak84CIpFFfOC"
   },
   "source": [
    "**Step4**: Generate sequences assembled and write them to a file. We may need to change python's recursion limit."
   ]
  },
  {
   "cell_type": "code",
   "execution_count": 12,
   "metadata": {
    "colab": {
     "base_uri": "https://localhost:8080/",
     "height": 71
    },
    "colab_type": "code",
    "executionInfo": {
     "elapsed": 1731173,
     "status": "ok",
     "timestamp": 1545589865020,
     "user": {
      "displayName": "Qiang YE",
      "photoUrl": "https://lh6.googleusercontent.com/-k-9mYNphfpc/AAAAAAAAAAI/AAAAAAAAARQ/zyID3sFntfM/s64/photo.jpg",
      "userId": "15200210150486633975"
     },
     "user_tz": 300
    },
    "id": "1_XqGkShU_yP",
    "outputId": "9c7a539e-2416-491a-a063-36e599618dad"
   },
   "outputs": [
    {
     "name": "stdout",
     "output_type": "stream",
     "text": [
      "generating sequence... 51468 generated.\t\n",
      "CPU times: user 4min 31s, sys: 14.4 s, total: 4min 45s\n",
      "Wall time: 5min 10s\n"
     ]
    }
   ],
   "source": [
    "%%time\n",
    "# sys.getrecursionlimit()\n",
    "sys.setrecursionlimit(10000)\n",
    "segments = generate_sequences(graph, start_nodes)"
   ]
  },
  {
   "cell_type": "code",
   "execution_count": 6,
   "metadata": {
    "colab": {},
    "colab_type": "code",
    "id": "P9-_WvJDhtr4"
   },
   "outputs": [],
   "source": [
    "def get_identifier(k = 10):\n",
    "    return ''.join(random.choices(string.ascii_uppercase, k = 10))\n",
    "\n",
    "# We modified the original read_fasta method, as it only tackle the compressed\n",
    "# and doesn't yield last sequence in the file.\n",
    "def read_fasta(path):\n",
    "    \"\"\"read data from a fasta file. if the filename ends with 'gz', it will\n",
    "    be considered a compressed file; otherwise, non compressed.\n",
    "    \n",
    "    params\n",
    "        path: file path, str\n",
    "    returns\n",
    "        None\n",
    "    \"\"\"\n",
    "    open_style = gzip.open          # zp file as default \n",
    "    if path[-2:] != 'gz':\n",
    "        open_style = open           # if not file not ended with 'gz', use open\n",
    "    with open_style(path, 'rt') as f:\n",
    "        accession, description, seq = None, None, None\n",
    "        for line in f:\n",
    "            if line[0] == '>':\n",
    "                # yield current record\n",
    "                if accession is not None:\n",
    "                    yield accession, description, seq\n",
    "                    \n",
    "                # start a new record\n",
    "                accession, description = line[1:].rstrip().split(maxsplit=1)\n",
    "                seq = ''\n",
    "            else:\n",
    "                seq += line.rstrip()\n",
    "        yield accession, description, seq   # yield the last sequence\n",
    "    return\n",
    "\n",
    "\n",
    "def write_fasta(path, sequences):\n",
    "    \"\"\"write sequences data from a fasta file. if the filename ends with 'gz', \n",
    "    it will be considered a compressed file; otherwise, non compressed.\n",
    "    params\n",
    "        path: file path for writing, str\n",
    "        sequences: list of sequence, [str]\n",
    "    returns\n",
    "        None\n",
    "    \"\"\"\n",
    "    open_style = gzip.open\n",
    "    if path[-2:] != 'gz': # not a compressed file\n",
    "        open_style = open\n",
    "    random.seed(123)\n",
    "    desc_base = \"Assembled by QiangYe and JuXiao 12/21/2018\"\n",
    "    identifiers = set()            # avoid repeatative identifiers\n",
    "    max_bases_line = 80            # 80 bases maximal per line\n",
    "    with open_style(path, \"wt\") as f:\n",
    "        for sequence in sequences:\n",
    "            identifier = get_identifier()\n",
    "            while identifier in identifiers:  # assure each identifier is unique\n",
    "                identifier = get_identifier()\n",
    "\n",
    "            identifiers.add(identifier)\n",
    "            desc = desc_base + \" \" + str(len(sequence)) + \" bases\"\n",
    "            f.write(\">\" + identifier + \" \" + desc + \"\\n\")\n",
    "            echos = len(sequence) // max_bases_line\n",
    "            if len(sequence) % max_bases_line > 0:\n",
    "                echos += 1\n",
    "            for echo in range(echos):\n",
    "                start_index = echo * max_bases_line\n",
    "                end_index = min(start_index + max_bases_line, len(sequence))\n",
    "                f.write(sequence[start_index: end_index]+\"\\n\")\n",
    "    return"
   ]
  },
  {
   "cell_type": "code",
   "execution_count": 14,
   "metadata": {
    "colab": {
     "base_uri": "https://localhost:8080/",
     "height": 91
    },
    "colab_type": "code",
    "executionInfo": {
     "elapsed": 1732162,
     "status": "ok",
     "timestamp": 1545589866010,
     "user": {
      "displayName": "Qiang YE",
      "photoUrl": "https://lh6.googleusercontent.com/-k-9mYNphfpc/AAAAAAAAAAI/AAAAAAAAARQ/zyID3sFntfM/s64/photo.jpg",
      "userId": "15200210150486633975"
     },
     "user_tz": 300
    },
    "id": "1xlcAV3xZ_O1",
    "outputId": "c6b1bcd6-d394-4168-d3bb-3a52ec5e3322"
   },
   "outputs": [
    {
     "name": "stdout",
     "output_type": "stream",
     "text": [
      "51468\n",
      "('NM_001025782.2', 'Caenorhabditis elegans Phosphatidylinositol 3-kinase catalytic subunit type 3 (vps-34), partial mRNA', 'ATGCGAGTCTCCACGTCAGTCAACGGTGGTGTTGGGATTGTTTCGGCCTGTACCCGTTACTGTGTAGCTGATCCTGAACTTCTTCTAGAATCTCTGGCGGAAGTTAAACACAGTGCAATGACACGTCGAATCAGAGATGTTGAAGATGAGAGACATCGACAAGTAAAACCGAATAAACAAGCAAAGGATCGATTGGAGACTATTGTGAATCTTCCATCATCTCAAGTTCTTACAAGAGAACAAAGAGATTTAGTATGGAAATTCAGGCATTATTTAAGACAATTTCCAAAAGCTTTGAACAAATATCTACGATCAGTTAATTGGGTTCATCCACAAGAAGTAAAAACTGCATTAGCTCTGATGAATGATTGGGAGCTGATTGAAGCTGAAGATGCATTAGAATTACTTTCAAGTGCATTCACTCATCCGGCAGTTCGTGCATATTCTGTATCCCGTCTTCTAGAAGCTGCTTCTCCTGAGCAAGTCCTCCTATATCTTCCACAATTGGTTCAAGCTTTGAAATACGAACAAGGTCAACAACTGCCTGAAGAAGGAAATCCAGTGCCGGTGGTTTCTGAAGAAGAGGGAAAGATCCCATCAGTTGCAACTACGCCAACTGAAGAGCTAGAAGGACGAGATATGACAGTGGTTACGAAGAAAGAGGCTAGAAAGGCGGCTAGTGGAGATTTGGCCACCTTCCTGATTGACTATGCTCTTGCATCTCCAAAAGTATCCAACTATCTCTACTGGCATCTAAAAACTGAAATTGAATCAACAAAAGAAAGTAAAGAAGAACACTCGAAAATGTATCAAAATATCCAGGATAGATTGATGGAAGCACTTGTAAAGAGACCTGATACCCGTGCACAAGTTGATTCACTTCATCAGCAACAAATTTTTGTGGAAGATCTTATTATTCTGATGAATGAGGCAAAAGCTCGTGGTGGTCGTTTGAATGAGTCAAAATCTGCAGAATTCCGAACTATGCTCTCTCGAGCCAAACATATGTTAGATCTTAAAGGAGTCCATCTTCCACTTGATCCAAGTTTCCGTTTATCATCAGTTATTCCTGATACAGCATCATTTTTCAAAAGTGAGATGATGCCTGCGAAGATATCATTCAAAGTTCTTCAGCCGAATGGAAAAGCTGATAGAAATATTCCAGAAGAATATACAGTTATATTTAAGACTGGAGATGATTTACGGCAAGATCAGCTGATTCAGCAAATGGTTCGACTTATTGATATTATTCTCAAAAAGGGACAATTGGATTTGAAGTTGACACCTTATTTGGTTCTCTCCACAGGTGTCGGTCAAGGATTTGTCCAATGCATAAAATCAAAACCATTGAGAGCAATTCAAGAACAATACAAAGCACATAAAATGGATTGTATTCGTGAAGCAATGAAAGAACTTCGTCCAGGAGATGGACCATTTGGTATTGAACCAAATGTAATCGATAATTATGTCCGTTCACTTGCTGGTTATTCAGTTATTATGTATATTCTGGGTCTTGGTGATCGTCATCTTGACAATCTTCTTCTTTGTGAGAATGGAAAACTATTCCACGTGGATTTTGGTTTCATCCTCGGACGGGATCCCAAACCAATGCCACCACCAATGAAATTAACCAGTGAAATGGTACAAGTGATGGGAGGTGTGAAGAGCAAACAATTTTTGGAATTTGTGCAGCATGTCGATTCTGCCTACCGGATTTTGAGACGACACTCGAATGTTCTTTTGAACTTGTTCTCACTTATGTTAGACGCTGGAATTCCTGATATTGCTGCTGAGCCGGATAAGGCTATTTTCAAGATCGAACAACGCCTCCGCCTGGATCTGTCGGATGAAGCAGCTACCAAACACATTTTCACTCAAATCGAGTCGAGTCTCAATGCAAAAATGGCTATGATTTCTGATATTATTCACGCATACAAACAGAATTTGATGTGA')\n",
      "('BCKCXANIWE', 'Assembled by QiangYe and JuXiao 12/21/2018 100 bases', 'AGACTAATGGAGAATGCTCGCCGAATGCTTCACTCAAGAGGTTTGCTCGAGACAAATGAGCTTGGAGAGATGTGTGAAACAGACGATGGACTGGATGATG')\n"
     ]
    }
   ],
   "source": [
    "fasta_file = 'GCF_000002985.6_WBcel235_rna.fna.gz'\n",
    "contigs_file = 'contigs_demo.fa' # change this file name\n",
    "\n",
    "write_fasta(contigs_file, segments)\n",
    "print(len(segments))\n",
    "print(next(read_fasta(fasta_file)))\n",
    "print(next(read_fasta(contigs_file)))"
   ]
  },
  {
   "cell_type": "markdown",
   "metadata": {
    "colab_type": "text",
    "id": "DkntLy712S33"
   },
   "source": [
    "The shortest and largest lengths are :"
   ]
  },
  {
   "cell_type": "code",
   "execution_count": 15,
   "metadata": {
    "colab": {
     "base_uri": "https://localhost:8080/",
     "height": 35
    },
    "colab_type": "code",
    "executionInfo": {
     "elapsed": 1732163,
     "status": "ok",
     "timestamp": 1545589866013,
     "user": {
      "displayName": "Qiang YE",
      "photoUrl": "https://lh6.googleusercontent.com/-k-9mYNphfpc/AAAAAAAAAAI/AAAAAAAAARQ/zyID3sFntfM/s64/photo.jpg",
      "userId": "15200210150486633975"
     },
     "user_tz": 300
    },
    "id": "v67RIHz02Bc9",
    "outputId": "44f588f4-8f78-4cdf-be80-bc042c6a508e"
   },
   "outputs": [
    {
     "name": "stdout",
     "output_type": "stream",
     "text": [
      "24 5955\n"
     ]
    }
   ],
   "source": [
    "lens = [len(segment) for segment in segments]\n",
    "print(min(lens), max(lens))"
   ]
  },
  {
   "cell_type": "markdown",
   "metadata": {
    "colab_type": "text",
    "id": "PIC2x_t2I87I"
   },
   "source": [
    "### b) Dans votre rapport, répondez aux questions suivantes:\n",
    "- Quelle stratégie de parcours avez-vous adoptée?\n",
    "- Comment les boucles sont-elles gérées durant le parcours?\n",
    "\n",
    "**Answer b)**\n",
    "\n",
    "Please read `report` for details.\n",
    "\n",
    "<hr>"
   ]
  },
  {
   "cell_type": "markdown",
   "metadata": {
    "colab_type": "text",
    "id": "hN8Vcw4unMul"
   },
   "source": [
    "## Question 4 \n",
    "\n",
    "### a) Comparer les séquences assemblées avec les séquences de références contenus dans le fichier FASTA. \n",
    "\n",
    "Vous pouvez utiliser string.find pour effectuer chaque paire de comparaison. Reporter chaque\n",
    "occurence dans un fichier occurences.bed contenant les quatre (4) colonnes suivantes séparées\n",
    "par des tabulations:\n",
    " - reference: identifiant du segment de référence\n",
    " - start: début de l’occurence basé sur 1 inclusif (une occurence à l’indice zéro devrait être en\n",
    "position 1)\n",
    " - end: fin de l’occurence basé sur 1 inclusif\n",
    " - contig: identifiant du contig\n",
    " \n",
    "**Answer a)** \n",
    " \n",
    " **Step1**: implement methods to wirte matches to file and to read them."
   ]
  },
  {
   "cell_type": "code",
   "execution_count": 1,
   "metadata": {
    "colab": {},
    "colab_type": "code",
    "id": "YjHI6nPL21g1"
   },
   "outputs": [],
   "source": [
    "def read_bed(path):\n",
    "    with open(path) as f:\n",
    "        for line in f:\n",
    "            ref, start, end, name = line.rstrip().split('\\t')\n",
    "            yield ref, int(start) - 1, int(end), name\n",
    "        \n",
    "def write_bed(path, occurences):\n",
    "    with open(path, \"w\") as f:\n",
    "        for occur in occurences:\n",
    "            line = \"\"\n",
    "            for item in occur:\n",
    "                line += str(item) + \"\\t\"\n",
    "            f.write(line+\"\\n\")\n",
    "    return"
   ]
  },
  {
   "cell_type": "markdown",
   "metadata": {
    "colab_type": "text",
    "id": "XcB7l-nJCSq2"
   },
   "source": [
    "**Step2**: Compare sequences in assembeld fasta and references fasta.\n",
    "\n",
    "First, read ferences sequences and assembled sequences from files:"
   ]
  },
  {
   "cell_type": "code",
   "execution_count": 16,
   "metadata": {
    "colab": {
     "base_uri": "https://localhost:8080/",
     "height": 71
    },
    "colab_type": "code",
    "executionInfo": {
     "elapsed": 1733456,
     "status": "ok",
     "timestamp": 1545589867308,
     "user": {
      "displayName": "Qiang YE",
      "photoUrl": "https://lh6.googleusercontent.com/-k-9mYNphfpc/AAAAAAAAAAI/AAAAAAAAARQ/zyID3sFntfM/s64/photo.jpg",
      "userId": "15200210150486633975"
     },
     "user_tz": 300
    },
    "id": "KJUTUFxJnCvt",
    "outputId": "353b762b-88a4-494e-d35b-2bb07512b3f6"
   },
   "outputs": [
    {
     "name": "stdout",
     "output_type": "stream",
     "text": [
      "53144 51488\n",
      "CPU times: user 948 ms, sys: 24.1 ms, total: 972 ms\n",
      "Wall time: 968 ms\n"
     ]
    }
   ],
   "source": [
    "%%time\n",
    "fasta_file = 'GCF_000002985.6_WBcel235_rna.fna.gz'\n",
    "contigs_file = 'contigs.fa'\n",
    "\n",
    "refer_seqs = []\n",
    "assem_seqs = []\n",
    "for identifier, _, assem_seq in read_fasta(contigs_file):\n",
    "    assem_seqs.append((identifier, assem_seq))\n",
    "    \n",
    "for identifier, _, ref_seq in read_fasta(fasta_file):\n",
    "    refer_seqs.append((identifier, ref_seq))\n",
    "    \n",
    "print(len(refer_seqs), len(assem_seqs))"
   ]
  },
  {
   "cell_type": "markdown",
   "metadata": {},
   "source": [
    "Then, compare sequences:"
   ]
  },
  {
   "cell_type": "code",
   "execution_count": 18,
   "metadata": {
    "colab": {},
    "colab_type": "code",
    "id": "h7KRcjEzvH1h"
   },
   "outputs": [],
   "source": [
    "def compare_sequences(refer_seqs, assem_seqs):\n",
    "    occurences, failures = [], []\n",
    "    for identifier, assem_seq in assem_seqs:\n",
    "        found = False\n",
    "        for accession, seq in refer_seqs:\n",
    "            index = seq.find(assem_seq)\n",
    "            #index = sunday_find(seq, assem_seq)  # sunday_find\n",
    "            if index > -1:\n",
    "                found = True # this assembled seq has been found in references\n",
    "                result_line = accession, index+1, index+len(assem_seq), identifier\n",
    "                occurences.append(result_line)\n",
    "                show_live_info(str(len(occurences)) + \"/\" + str(len(failures)),\n",
    "                           desc_after = \"  (matches/failures)\")\n",
    "\n",
    "        if not found: # assembled seq didn't match any sequence in fasta \n",
    "            failures.append((identifier, assem_seq))\n",
    "            show_live_info(str(len(occurences)) + \"/\" + str(len(failures)),\n",
    "                           desc_after = \"  (matches/failures)\")\n",
    "    print()        \n",
    "    return  occurences, failures\n",
    "\n",
    "occurences, failures = [], []"
   ]
  },
  {
   "cell_type": "code",
   "execution_count": 26,
   "metadata": {
    "colab": {
     "base_uri": "https://localhost:8080/",
     "height": 35
    },
    "colab_type": "code",
    "executionInfo": {
     "elapsed": 84048,
     "status": "error",
     "timestamp": 1545598354556,
     "user": {
      "displayName": "Qiang YE",
      "photoUrl": "https://lh6.googleusercontent.com/-k-9mYNphfpc/AAAAAAAAAAI/AAAAAAAAARQ/zyID3sFntfM/s64/photo.jpg",
      "userId": "15200210150486633975"
     },
     "user_tz": 300
    },
    "id": "n3tnGgorOwRJ",
    "outputId": "d90ac63e-65bc-4371-bb29-0ac73d88756b",
    "scrolled": true
   },
   "outputs": [
    {
     "name": "stdout",
     "output_type": "stream",
     "text": [
      " 72525/14025   (matches/failures)\tCPU times: user 2h 17min 28s, sys: 55.7 s, total: 2h 18min 23s\n",
      "Wall time: 2h 18min 27s\n"
     ]
    }
   ],
   "source": [
    "%%time\n",
    "occurences, failures = compare_sequences(refer_seqs, assem_seqs)"
   ]
  },
  {
   "cell_type": "markdown",
   "metadata": {
    "colab_type": "text",
    "id": "yOnGFnf1Ck5h"
   },
   "source": [
    "**Step3**: Wirte result to file."
   ]
  },
  {
   "cell_type": "code",
   "execution_count": 0,
   "metadata": {
    "colab": {},
    "colab_type": "code",
    "id": "oNrZHcLRmmlL"
   },
   "outputs": [],
   "source": [
    "sorted_occ = sorted(occurences)\n",
    "# change filename to save current occurences in another file\n",
    "write_bed(\"occurences_demo.bed\", sorted_occ)\n",
    "\n",
    "sorted_fail = sorted(failures)\n",
    "# change filename to save current failures\n",
    "write_bed(\"failure.bed\", sorted_fail)"
   ]
  },
  {
   "cell_type": "markdown",
   "metadata": {
    "colab_type": "text",
    "id": "_fNRhXQiPPml"
   },
   "source": [
    "**Step4**: Check the information in `occurences.bed` file. \n",
    "\n",
    "Read two kind of sequences into dictionaries. Check the information in \"occurences.bed\" based on the sequences data."
   ]
  },
  {
   "cell_type": "code",
   "execution_count": 4,
   "metadata": {
    "colab": {},
    "colab_type": "code",
    "id": "bwQWQ-TuPP3N"
   },
   "outputs": [],
   "source": [
    "def fasta_to_dict(fasta_file):\n",
    "    \"\"\"build a dict from a fasta file, with key = accession(name) and \n",
    "    value = sequence\n",
    "    params\n",
    "        fasta_file: file, str\n",
    "    returns\n",
    "        fasta_dict: dict\n",
    "    \"\"\"\n",
    "    fasta_dict = {}\n",
    "    for ref_name, _, seq in read_fasta(fasta_file):\n",
    "        fasta_dict[ref_name] = seq\n",
    "    return fasta_dict"
   ]
  },
  {
   "cell_type": "code",
   "execution_count": 7,
   "metadata": {
    "colab": {
     "base_uri": "https://localhost:8080/",
     "height": 370
    },
    "colab_type": "code",
    "executionInfo": {
     "elapsed": 1612,
     "status": "error",
     "timestamp": 1545598371021,
     "user": {
      "displayName": "Qiang YE",
      "photoUrl": "https://lh6.googleusercontent.com/-k-9mYNphfpc/AAAAAAAAAAI/AAAAAAAAARQ/zyID3sFntfM/s64/photo.jpg",
      "userId": "15200210150486633975"
     },
     "user_tz": 300
    },
    "id": "ndt4EhY6Px0k",
    "outputId": "9ac7184a-491e-45d3-b96b-5e3e7be38df7"
   },
   "outputs": [
    {
     "name": "stdout",
     "output_type": "stream",
     "text": [
      "info in occurences.bed checked.\n"
     ]
    }
   ],
   "source": [
    "fasta_file = 'GCF_000002985.6_WBcel235_rna.fna.gz'\n",
    "contigs_file = \"contigs.fa\"\n",
    "\n",
    "# build two dicts\n",
    "ref_dict = fasta_to_dict(fasta_file)\n",
    "ass_dict = fasta_to_dict(contigs_file)\n",
    "\n",
    "has_error = False\n",
    "occurences_file = \"occurences.bed\"\n",
    "for ref_name, start, end, ass_name in read_bed(occurences_file):\n",
    "    if not ref_dict[ref_name][start: end] == ass_dict[ass_name]:\n",
    "        has_error = True\n",
    "        print(\"Error\")\n",
    "        break\n",
    "if not has_error:\n",
    "    print(\"info in {} checked.\".format(occurences_file))"
   ]
  },
  {
   "cell_type": "markdown",
   "metadata": {
    "colab_type": "text",
    "id": "-mrjKGiUgcY3"
   },
   "source": [
    "An example of the first 10 lines in the \"occurences.bed\""
   ]
  },
  {
   "cell_type": "code",
   "execution_count": 8,
   "metadata": {
    "colab": {},
    "colab_type": "code",
    "id": "HZw4ZnvE-p1T"
   },
   "outputs": [
    {
     "name": "stdout",
     "output_type": "stream",
     "text": [
      "('NM_001025782.2', 112, 212, 'IJKBZLZIXT')\n",
      "('NM_001025782.2', 261, 378, 'CRTPPWYDNP')\n",
      "('NM_001025782.2', 403, 559, 'BYKUOYBUAJ')\n",
      "('NM_001025782.2', 565, 742, 'EBCKPZICNQ')\n",
      "('NM_001025782.2', 773, 1037, 'MTQTWPVWVC')\n",
      "('NM_001025782.2', 1040, 1140, 'HBWPKRVOET')\n",
      "('NM_001025782.2', 1179, 1347, 'XFRFQVMBDT')\n",
      "('NM_001025782.2', 1354, 1454, 'LMNPEMVYPB')\n",
      "('NM_001025782.2', 1525, 1625, 'VRRUNQSPBG')\n",
      "('NM_001025782.2', 1617, 1756, 'YXVQZWMSEW')\n",
      "('NM_001025782.2', 1804, 1904, 'XAXXMZABCM')\n"
     ]
    }
   ],
   "source": [
    "count = 0\n",
    "for result in read_bed(occurences_file):\n",
    "    print(result)\n",
    "    count += 1\n",
    "    if count > 10:\n",
    "        break"
   ]
  },
  {
   "cell_type": "markdown",
   "metadata": {
    "colab_type": "text",
    "id": "EotQoGw68-1G"
   },
   "source": [
    "### b) Peut-il exister des séquences qui ne peuvent pas être assemblée correctement dans la référence (avec k = 21)? Le cas échéant, en fournir un exemple.\n",
    "\n",
    "**Answer b)**\n",
    "\n",
    "we created a list \"failures\" to record all no-matched assembled sequences. We can check if this list has contents."
   ]
  },
  {
   "cell_type": "code",
   "execution_count": 9,
   "metadata": {
    "colab": {},
    "colab_type": "code",
    "id": "zPqpWAMB95OJ"
   },
   "outputs": [
    {
     "name": "stdout",
     "output_type": "stream",
     "text": [
      "first 2 sequences that didn't match any references are listed here:\n",
      "AAAJMNNKVK   TATTATTACGAAGAAAAATACTCAAGCTTCTCACGGGACCTGATAGATCATCCGATGCGTTACATTCCCAAAATAGA 77\n",
      "AADUMCEOYZ   GGAGCCGCCGGAGAAGACGGAACTCCAGGAGAGCCAGGAACTGACGGAGAGGATGGAGGAAACGGTATGCCTGGAGTCGCCCAGATGGCTATGGATGCTAATGGAGGAGCTTGCATCAAGTGCCCAGCCGGAGAGCCAGGACCACCAGGACCAGATGGACAGCCTGGAGCTCCAGGACCAGACGGACAGCCAGGAGCCGGTGGAACTACCAGCACCAACCAACCTGGACCTCCAGGACCAGCAGGACCACCTGGGCCAGCCGGACCAGCAGGAGAGGACGCGTATGCTCAACCATCACCAGCCGGAACACCAGGACCACCAGGACCAGAAGGACCAGCGGGACCAGCAGGACCAGCAGGAAACGCTGGAGCTGATGGAGAGGCCGGAGCTGAAGGACCAGCTGGAGAGGCTGGACCTCCAGGACCCCCAGGACCAGACGGAAAGCCTGGAGCTGCTGGATCTGACGGAGAAGCCGGAGCCCCTGGAACAAAGACCACAAATGCACCAGGAGAACCAGGACCAGCCGGACCACCAGGACCAGCCGGACCAGCTGGACCAAAGGGACCAAACGGAAACCCAGGATCCGACGGACAGCCAGGAGCCCCAGGACCAGCTGGACCAGAAGGAGATGCTGGAGCACCAGGAGACGCCGGAGCACCAGGACAGCCAGGGCATCCCGGATCCCCTGGAAACCCAGGACGTGGAGGGCAACGCAGCCGTGGACTTCCAGGACCATCAGGAAGACCGGGACCACAAGGACCGGCTGGAGGACCAGGACAGCCAGGACAGGATGGAGGATCTGGAGGATCGGGAGCT 816\n"
     ]
    }
   ],
   "source": [
    "failures = []\n",
    "with open(\"failure.bed\", \"rt\") as f:\n",
    "    for line in f:\n",
    "        identifier, assem_seq = line.rstrip().split('\\t')\n",
    "        failures.append((identifier, assem_seq))\n",
    "            \n",
    "if len(failures) == 0:\n",
    "    print(\"all assembled sequences are correctly assembled\")\n",
    "    print(\"each of them matches a or part of a sequence in FASTA\")\n",
    "else:\n",
    "    print(\"first 2 sequences that didn't match any references are listed here:\")\n",
    "    for identifier, assem_seq in failures[:2]:\n",
    "        print(identifier, \" \", assem_seq, len(assem_seq))"
   ]
  },
  {
   "cell_type": "markdown",
   "metadata": {
    "colab_type": "text",
    "id": "_DzXpZSMB4vr"
   },
   "source": [
    "### c) Bonus:  Proposer une structure de données appropriée pour effectuer une comparaison efficace des séquences assemblées avec celles de référence. La complexité doit être strictement inférieure à la méthode proposée en 4a.\n",
    "\n",
    "**Answer c)**\n",
    "\n",
    "Method `str.find()` built-in python combines the advantages of two algorithm (Boyer Moore, and Horspool) and uses bloom filter algorithm; all these techniques make the str.find() method very efficase and fast. We tried \"sunday\" algorithm, and another search algorithm based on python built-in hash function. Unforturnately, they are both less efficase than `str.find()` method. The implementation sunday algorithm and hash method is shown below.\n",
    "\n",
    "As `str.find()` method is a general method for all typs of strings. We come to an idea if we can use one of the characteristic a DNA sequence: only four different charcters may occur in a string, to design a faster search algorithm. But we haven't found a good way to impliment it yet."
   ]
  },
  {
   "cell_type": "code",
   "execution_count": 10,
   "metadata": {
    "colab": {},
    "colab_type": "code",
    "id": "ETKWbx6ZKfWc"
   },
   "outputs": [],
   "source": [
    "# sunday search algorithm\n",
    "def sunday_occ(P):\n",
    "    \"\"\"get position index of a char in pattern string\n",
    "    params\n",
    "        P: pattern string\n",
    "    returns\n",
    "        occ: list of index\n",
    "    \"\"\"\n",
    "    occ = {} # AGCT\n",
    "    for j in range(len(P)):\n",
    "        occ[P[j]] = j\n",
    "    return occ\n",
    "\n",
    "def sunday_find(T, P, occ):\n",
    "    m, n = len(T), len(P)\n",
    "    if n == 0 or m < n: return -1\n",
    "    #occ = sunday_occ(P)\n",
    "    i = 0\n",
    "    while i <= m - n:\n",
    "        #print(\"\\nround\", i)\n",
    "        #print(T)\n",
    "        #print(\" \"*i+P)\n",
    "        if P == T[i: i+n]:\n",
    "            return i\n",
    "        i += n\n",
    "        #print(\" \"*i + P)\n",
    "        if i < m:\n",
    "            i -= occ.get(T[i], 0)\n",
    "            #print(\" \"*i + P)\n",
    "    return -1"
   ]
  },
  {
   "cell_type": "code",
   "execution_count": 11,
   "metadata": {
    "colab": {},
    "colab_type": "code",
    "id": "MR5fIUicIcgA"
   },
   "outputs": [],
   "source": [
    "# hash and compare\n",
    "def hash_find(T, P):\n",
    "    m, n = len(T), len(P)\n",
    "    if n == 0 or m < n: return -1\n",
    "    hash_p = hash(P)\n",
    "    for i in range(m-n+1):\n",
    "        s = T[i: i+n]\n",
    "        hash_s = hash(s)\n",
    "        if hash_p == hash_s and P == s:\n",
    "            return i\n",
    "    return -1   "
   ]
  },
  {
   "cell_type": "markdown",
   "metadata": {
    "colab_type": "text",
    "id": "xabwD0wDOwRj"
   },
   "source": [
    "Test the time needed for each algorithm.\n",
    "\n",
    "Generate some Texts(`Ts`) and a pattern(`P`), then find the pattern in each text."
   ]
  },
  {
   "cell_type": "code",
   "execution_count": 12,
   "metadata": {
    "colab": {},
    "colab_type": "code",
    "id": "u3TKaPqQOwRk"
   },
   "outputs": [],
   "source": [
    "import random\n",
    "Ts = []\n",
    "for i in range(10000):\n",
    "    Ts.append(''.join(random.choices(\"ACGT\", k = 3000)))\n",
    "P = ''.join(random.choices(\"ACGT\", k = 300))"
   ]
  },
  {
   "cell_type": "code",
   "execution_count": 13,
   "metadata": {
    "colab": {},
    "colab_type": "code",
    "id": "1HsSnkYcI4XE"
   },
   "outputs": [
    {
     "name": "stdout",
     "output_type": "stream",
     "text": [
      "CPU times: user 201 ms, sys: 16 µs, total: 201 ms\n",
      "Wall time: 199 ms\n"
     ]
    }
   ],
   "source": [
    "%%time\n",
    "for T in Ts:\n",
    "    T.find(P)"
   ]
  },
  {
   "cell_type": "code",
   "execution_count": 14,
   "metadata": {
    "colab": {},
    "colab_type": "code",
    "id": "drC6KzFAJFfi"
   },
   "outputs": [
    {
     "name": "stdout",
     "output_type": "stream",
     "text": [
      "CPU times: user 1.82 s, sys: 25 µs, total: 1.82 s\n",
      "Wall time: 1.82 s\n"
     ]
    }
   ],
   "source": [
    "%%time\n",
    "occ = sunday_occ(P)\n",
    "for T in Ts:\n",
    "    sunday_find(T, P, occ)"
   ]
  },
  {
   "cell_type": "code",
   "execution_count": 15,
   "metadata": {
    "colab": {},
    "colab_type": "code",
    "id": "uH3W2oe3JH2u"
   },
   "outputs": [
    {
     "name": "stdout",
     "output_type": "stream",
     "text": [
      "CPU times: user 10.6 s, sys: 3.96 ms, total: 10.6 s\n",
      "Wall time: 10.6 s\n"
     ]
    }
   ],
   "source": [
    "%%time\n",
    "for T in Ts:\n",
    "    hash_find(T, P)"
   ]
  },
  {
   "cell_type": "markdown",
   "metadata": {
    "colab_type": "text",
    "id": "unLsVn4NOwRs"
   },
   "source": [
    "Among three search methods, python built-in search algorithm is the fastest. By the time we submitted this report, we havn't found a faster search algorithm yet."
   ]
  },
  {
   "cell_type": "code",
   "execution_count": null,
   "metadata": {},
   "outputs": [],
   "source": []
  }
 ],
 "metadata": {
  "colab": {
   "collapsed_sections": [],
   "name": "main.ipynb",
   "provenance": [],
   "version": "0.3.2"
  },
  "kernelspec": {
   "display_name": "Python 3",
   "language": "python",
   "name": "python3"
  },
  "language_info": {
   "codemirror_mode": {
    "name": "ipython",
    "version": 3
   },
   "file_extension": ".py",
   "mimetype": "text/x-python",
   "name": "python",
   "nbconvert_exporter": "python",
   "pygments_lexer": "ipython3",
   "version": "3.6.5"
  }
 },
 "nbformat": 4,
 "nbformat_minor": 1
}
